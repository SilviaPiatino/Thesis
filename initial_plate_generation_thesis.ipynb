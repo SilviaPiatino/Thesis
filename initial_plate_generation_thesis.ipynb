{
  "nbformat": 4,
  "nbformat_minor": 0,
  "metadata": {
    "colab": {
      "provenance": [],
      "authorship_tag": "ABX9TyNbXxltF1nzuNIcEK7xoEc3",
      "include_colab_link": true
    },
    "kernelspec": {
      "name": "python3",
      "display_name": "Python 3"
    },
    "language_info": {
      "name": "python"
    }
  },
  "cells": [
    {
      "cell_type": "markdown",
      "metadata": {
        "id": "view-in-github",
        "colab_type": "text"
      },
      "source": [
        "<a href=\"https://colab.research.google.com/github/SilviaPiatino/Thesis/blob/main/initial_plate_generation_thesis.ipynb\" target=\"_parent\"><img src=\"https://colab.research.google.com/assets/colab-badge.svg\" alt=\"Open In Colab\"/></a>"
      ]
    },
    {
      "cell_type": "markdown",
      "source": [
        "Ho importato le librerie che mi servono"
      ],
      "metadata": {
        "id": "UBSqKJe2CewB"
      }
    },
    {
      "cell_type": "code",
      "execution_count": 30,
      "metadata": {
        "id": "Wor14wOE-xpo"
      },
      "outputs": [],
      "source": [
        "import numpy as np\n",
        "import random"
      ]
    },
    {
      "cell_type": "markdown",
      "source": [
        "Definisco le concentrazioni da testare con variabili liste\n",
        "\n",
        "\n",
        "> Aggiungi citazione\n",
        "\n",
        "\n"
      ],
      "metadata": {
        "id": "-qxZxTZBELyZ"
      }
    },
    {
      "cell_type": "code",
      "source": [
        "mg_gluta=[6, 7, 8, 9, 10, 11, 12, 13, 14]\n",
        "peg=[3, 3.5, 4, 4.5, 5, 5.5, 6, 6.5, 7, 7.5]\n",
        "clpx=[0, 50, 100, 150, 200, 250, 300, 350, 400]\n",
        "clpp=[0, 50, 100, 150, 200, 250, 300, 350, 400]\n",
        "atp=[0, 1, 2, 3, 4, 5, 6, 7, 8]\n",
        "dna=[0, 3]\n",
        "sfgfp=[0, 1.5]"
      ],
      "metadata": {
        "id": "8U_BgI9lVftz"
      },
      "execution_count": 31,
      "outputs": []
    },
    {
      "cell_type": "markdown",
      "source": [
        "Definisco i control samples\n"
      ],
      "metadata": {
        "id": "oFFkciFbzMgX"
      }
    },
    {
      "cell_type": "code",
      "source": [
        "ref_syn=[mg_gluta[-1],\n",
        "         peg[-1],\n",
        "         clpx[-1],\n",
        "         clpp[-1],\n",
        "         atp[-1],\n",
        "         dna[-1],\n",
        "         sfgfp[0]\n",
        "]\n",
        "autofl_syn=[mg_gluta[-1],\n",
        "         peg[-1],\n",
        "         clpx[-1],\n",
        "         clpp[-1],\n",
        "         atp[-1],\n",
        "         dna[0],\n",
        "         sfgfp[0]\n",
        "]\n",
        "ref_deg=[\n",
        "         mg_gluta[0],\n",
        "         peg[0],\n",
        "         clpx[0],\n",
        "         clpp[0],\n",
        "         atp[0],\n",
        "         dna[0],\n",
        "         sfgfp[-1]\n",
        "]\n",
        "autofl_deg=[\n",
        "         mg_gluta[0],\n",
        "         peg[0],\n",
        "         clpx[0],\n",
        "         clpp[0],\n",
        "         atp[0],\n",
        "         dna[0],\n",
        "         sfgfp[0]\n",
        "]"
      ],
      "metadata": {
        "id": "-VucFEBmzkUf"
      },
      "execution_count": 32,
      "outputs": []
    },
    {
      "cell_type": "markdown",
      "source": [
        "conversione ad array e creazione di quello di controllo"
      ],
      "metadata": {
        "id": "DXL9lYz945P-"
      }
    },
    {
      "cell_type": "code",
      "source": [
        "ref_syn=np.reshape(ref_syn,(1,7))\n",
        "autofl_syn=np.reshape(autofl_syn,(1,7))\n",
        "ref_deg=np.reshape(ref_deg,(1,7))\n",
        "autofl_deg=np.reshape(autofl_deg,(1,7))\n",
        "\n",
        "ctrl_syn=np.concatenate((ref_syn,autofl_syn),axis=0)\n",
        "ctrl_deg=np.concatenate((ref_deg,autofl_deg),axis=0)"
      ],
      "metadata": {
        "id": "H8pqfQbG1S_L"
      },
      "execution_count": 33,
      "outputs": []
    },
    {
      "cell_type": "markdown",
      "source": [
        "Definisco tutti massimi tranne uno minimo per la sintesi. Sono combinazioni che voglio testare all'inizio"
      ],
      "metadata": {
        "id": "GIBzecsl7Ekz"
      }
    },
    {
      "cell_type": "code",
      "source": [
        "boundary_max_syn=ref_syn\n",
        "this_sample=[mg_gluta[0],\n",
        "         peg[-1],\n",
        "         clpx[-1],\n",
        "         clpp[-1],\n",
        "         atp[-1],\n",
        "         dna[-1],\n",
        "         sfgfp[0]]\n",
        "this_sample=np.reshape(this_sample,(1,7))\n",
        "boundary_max_syn=np.concatenate((boundary_max_syn,this_sample),axis=0)"
      ],
      "metadata": {
        "id": "b3oJ2gzy60x9"
      },
      "execution_count": 34,
      "outputs": []
    },
    {
      "cell_type": "code",
      "source": [
        "this_sample=[mg_gluta[-1],\n",
        "         peg[0],\n",
        "         clpx[-1],\n",
        "         clpp[-1],\n",
        "         atp[-1],\n",
        "         dna[-1],\n",
        "         sfgfp[0]]\n",
        "this_sample=np.reshape(this_sample,(1,7))\n",
        "boundary_max_syn=np.concatenate((boundary_max_syn,this_sample),axis=0)\n"
      ],
      "metadata": {
        "id": "pNXejxDK9CT_"
      },
      "execution_count": 35,
      "outputs": []
    },
    {
      "cell_type": "code",
      "source": [
        "this_sample=[mg_gluta[-1],\n",
        "         peg[-1],\n",
        "         clpx[0],\n",
        "         clpp[-1],\n",
        "         atp[-1],\n",
        "         dna[-1],\n",
        "         sfgfp[0]]\n",
        "this_sample=np.reshape(this_sample,(1,7))\n",
        "boundary_max_syn=np.concatenate((boundary_max_syn,this_sample),axis=0)"
      ],
      "metadata": {
        "id": "ZGyFzQVcF7dt"
      },
      "execution_count": 36,
      "outputs": []
    },
    {
      "cell_type": "code",
      "source": [
        "this_sample=[mg_gluta[-1],\n",
        "         peg[-1],\n",
        "         clpx[-1],\n",
        "         clpp[0],\n",
        "         atp[-1],\n",
        "         dna[-1],\n",
        "         sfgfp[0]]\n",
        "this_sample=np.reshape(this_sample,(1,7))\n",
        "boundary_max_syn=np.concatenate((boundary_max_syn,this_sample),axis=0)\n"
      ],
      "metadata": {
        "id": "NJMrGjsVF_kx"
      },
      "execution_count": 37,
      "outputs": []
    },
    {
      "cell_type": "code",
      "source": [
        "this_sample=[mg_gluta[-1],\n",
        "         peg[-1],\n",
        "         clpx[-1],\n",
        "         clpp[-1],\n",
        "         atp[0],\n",
        "         dna[-1],\n",
        "         sfgfp[0]]\n",
        "this_sample=np.reshape(this_sample,(1,7))\n",
        "boundary_max_syn=np.concatenate((boundary_max_syn,this_sample),axis=0)\n"
      ],
      "metadata": {
        "id": "TGsojOumGDmc"
      },
      "execution_count": 38,
      "outputs": []
    },
    {
      "cell_type": "code",
      "source": [
        "print(boundary_max_syn.shape)"
      ],
      "metadata": {
        "colab": {
          "base_uri": "https://localhost:8080/"
        },
        "id": "REZvVJaBGizG",
        "outputId": "c5f0b268-7524-4cfc-9d75-573861512013"
      },
      "execution_count": 39,
      "outputs": [
        {
          "output_type": "stream",
          "name": "stdout",
          "text": [
            "(6, 7)\n"
          ]
        }
      ]
    },
    {
      "cell_type": "markdown",
      "source": [
        "Ora definisco tutti i minimi tranne uno per la sintesi, compreso quello con tutti i valori al minimo\n"
      ],
      "metadata": {
        "id": "M3C5SIXQKvMi"
      }
    },
    {
      "cell_type": "code",
      "source": [
        "this_sample=[mg_gluta[0],\n",
        "         peg[0],\n",
        "         clpx[0],\n",
        "         clpp[0],\n",
        "         atp[0],\n",
        "         dna[-1],\n",
        "         sfgfp[0]]\n",
        "this_sample=np.reshape(this_sample,(1,7))\n",
        "boundary_min_syn=this_sample"
      ],
      "metadata": {
        "id": "mk4vhWJ5LlEY"
      },
      "execution_count": 40,
      "outputs": []
    },
    {
      "cell_type": "code",
      "source": [
        "this_sample=[mg_gluta[-1],\n",
        "         peg[0],\n",
        "         clpx[0],\n",
        "         clpp[0],\n",
        "         atp[0],\n",
        "         dna[-1],\n",
        "         sfgfp[0]]\n",
        "this_sample=np.reshape(this_sample,(1,7))\n",
        "boundary_min_syn=np.concatenate((boundary_min_syn,this_sample),axis=0)"
      ],
      "metadata": {
        "id": "Py8f9GKbNox5"
      },
      "execution_count": 41,
      "outputs": []
    },
    {
      "cell_type": "code",
      "source": [
        "this_sample=[mg_gluta[0],\n",
        "         peg[-1],\n",
        "         clpx[0],\n",
        "         clpp[0],\n",
        "         atp[0],\n",
        "         dna[-1],\n",
        "         sfgfp[0]]\n",
        "this_sample=np.reshape(this_sample,(1,7))\n",
        "boundary_min_syn=np.concatenate((boundary_min_syn,this_sample),axis=0)"
      ],
      "metadata": {
        "id": "3u7tG1t1N4Lb"
      },
      "execution_count": 42,
      "outputs": []
    },
    {
      "cell_type": "code",
      "source": [
        "this_sample=[mg_gluta[0],\n",
        "         peg[0],\n",
        "         clpx[-1],\n",
        "         clpp[0],\n",
        "         atp[0],\n",
        "         dna[-1],\n",
        "         sfgfp[0]]\n",
        "this_sample=np.reshape(this_sample,(1,7))\n",
        "boundary_min_syn=np.concatenate((boundary_min_syn,this_sample),axis=0)"
      ],
      "metadata": {
        "id": "R-tHg35KZT8K"
      },
      "execution_count": 43,
      "outputs": []
    },
    {
      "cell_type": "code",
      "source": [
        "this_sample=[mg_gluta[0],\n",
        "         peg[0],\n",
        "         clpx[0],\n",
        "         clpp[-1],\n",
        "         atp[0],\n",
        "         dna[-1],\n",
        "         sfgfp[0]]\n",
        "this_sample=np.reshape(this_sample,(1,7))\n",
        "boundary_min_syn=np.concatenate((boundary_min_syn,this_sample),axis=0)"
      ],
      "metadata": {
        "id": "98RruaRfZZUl"
      },
      "execution_count": 44,
      "outputs": []
    },
    {
      "cell_type": "code",
      "source": [
        "this_sample=[mg_gluta[0],\n",
        "         peg[0],\n",
        "         clpx[0],\n",
        "         clpp[0],\n",
        "         atp[-1],\n",
        "         dna[-1],\n",
        "         sfgfp[0]]\n",
        "this_sample=np.reshape(this_sample,(1,7))\n",
        "boundary_min_syn=np.concatenate((boundary_min_syn,this_sample),axis=0)\n"
      ],
      "metadata": {
        "id": "5CUiy_inZg_F"
      },
      "execution_count": 45,
      "outputs": []
    },
    {
      "cell_type": "code",
      "source": [
        "print(boundary_min_syn.shape)"
      ],
      "metadata": {
        "colab": {
          "base_uri": "https://localhost:8080/"
        },
        "id": "_fRPaqbOZzQG",
        "outputId": "f1bbaeda-f3b8-4d0c-f5eb-f5e9c5f4ae2e"
      },
      "execution_count": 46,
      "outputs": [
        {
          "output_type": "stream",
          "name": "stdout",
          "text": [
            "(6, 7)\n"
          ]
        }
      ]
    },
    {
      "cell_type": "markdown",
      "source": [
        "Ora riempiamo il resto della lista di esperimenti iniziali da fare randomicamente"
      ],
      "metadata": {
        "id": "11lZKzlYaG__"
      }
    }
  ]
}