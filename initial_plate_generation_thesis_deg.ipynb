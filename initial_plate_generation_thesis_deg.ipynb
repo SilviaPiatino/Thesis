{
  "nbformat": 4,
  "nbformat_minor": 0,
  "metadata": {
    "colab": {
      "provenance": []
    },
    "kernelspec": {
      "name": "python3",
      "display_name": "Python 3"
    },
    "language_info": {
      "name": "python"
    }
  },
  "cells": [
    {
      "cell_type": "code",
      "source": [
        "from google.colab import drive\n",
        "drive.mount('/content/drive')"
      ],
      "metadata": {
        "colab": {
          "base_uri": "https://localhost:8080/"
        },
        "id": "aVR-bfsmdK8j",
        "outputId": "9c838c27-b61c-4572-ba9f-b3eafdf359f6"
      },
      "execution_count": 1,
      "outputs": [
        {
          "output_type": "stream",
          "name": "stdout",
          "text": [
            "Mounted at /content/drive\n"
          ]
        }
      ]
    },
    {
      "cell_type": "markdown",
      "source": [
        "# Initialization of plate generation for degradation\n"
      ],
      "metadata": {
        "id": "l4r1Tirtybom"
      }
    },
    {
      "cell_type": "markdown",
      "source": [
        "Ho importato le librerie che mi servono"
      ],
      "metadata": {
        "id": "UBSqKJe2CewB"
      }
    },
    {
      "cell_type": "code",
      "execution_count": 2,
      "metadata": {
        "id": "Wor14wOE-xpo"
      },
      "outputs": [],
      "source": [
        "import numpy as np\n",
        "import random\n",
        "import os"
      ]
    },
    {
      "cell_type": "markdown",
      "source": [
        "Creo la cartella dove salvare l'inizializzazione degli esperimenti"
      ],
      "metadata": {
        "id": "jinRyZQYRWqh"
      }
    },
    {
      "cell_type": "code",
      "source": [
        "data_folder = \"data_deg\"\n",
        "os.makedirs(data_folder, exist_ok=True)  # crea se non esiste"
      ],
      "metadata": {
        "id": "Ct1KlR2hRU4T"
      },
      "execution_count": 27,
      "outputs": []
    },
    {
      "cell_type": "markdown",
      "source": [
        "Definisco le concentrazioni da testare con variabili liste\n",
        "\n",
        "\n",
        "> Aggiungi citazione\n",
        "\n",
        "\n"
      ],
      "metadata": {
        "id": "-qxZxTZBELyZ"
      }
    },
    {
      "cell_type": "code",
      "source": [
        "mg_gluta=[6, 7, 8, 9, 10, 11, 12, 13, 14]\n",
        "peg=[3, 4.5, 6, 7.5]\n",
        "clpx=[0, 50, 100, 150, 200, 250, 300, 350, 400]\n",
        "clpp=[0, 50, 100, 150, 200, 250, 300, 350, 400]\n",
        "atp=[0, 1, 2, 3, 4, 5, 6, 7, 8]\n",
        "sfgfp=[0, 1.5]\n",
        "lists=[mg_gluta,peg,clpx,clpp,atp]"
      ],
      "metadata": {
        "id": "8U_BgI9lVftz"
      },
      "execution_count": 4,
      "outputs": []
    },
    {
      "cell_type": "markdown",
      "source": [
        "Definisco i control samples\n"
      ],
      "metadata": {
        "id": "oFFkciFbzMgX"
      }
    },
    {
      "cell_type": "code",
      "source": [
        "ref_deg=[\n",
        "         mg_gluta[0],\n",
        "         peg[0],\n",
        "         clpx[0],\n",
        "         clpp[0],\n",
        "         atp[0],\n",
        "         sfgfp[-1]\n",
        "]\n",
        "autofl_deg=[\n",
        "         mg_gluta[0],\n",
        "         peg[0],\n",
        "         clpx[0],\n",
        "         clpp[0],\n",
        "         atp[0],\n",
        "         sfgfp[0]\n",
        "]"
      ],
      "metadata": {
        "id": "-VucFEBmzkUf"
      },
      "execution_count": 5,
      "outputs": []
    },
    {
      "cell_type": "markdown",
      "source": [
        "conversione ad array e creazione di quello di controllo"
      ],
      "metadata": {
        "id": "DXL9lYz945P-"
      }
    },
    {
      "cell_type": "code",
      "source": [
        "ref_deg=np.reshape(ref_deg,(1,6))\n",
        "autofl_deg=np.reshape(autofl_deg,(1,6))\n",
        "\n",
        "ctrl_deg=np.concatenate((ref_deg,autofl_deg),axis=0)"
      ],
      "metadata": {
        "id": "H8pqfQbG1S_L"
      },
      "execution_count": 6,
      "outputs": []
    },
    {
      "cell_type": "markdown",
      "source": [
        "Definisco tutti minimi tranne uno minimo per la degradazione. Sono combinazioni che voglio testare all'inizio"
      ],
      "metadata": {
        "id": "GIBzecsl7Ekz"
      }
    },
    {
      "cell_type": "code",
      "source": [
        "boundary_min_deg=ref_deg\n",
        "this_sample=[mg_gluta[-1],\n",
        "         peg[0],\n",
        "         clpx[0],\n",
        "         clpp[0],\n",
        "         atp[0],\n",
        "         sfgfp[-1]]\n",
        "this_sample=np.reshape(this_sample,(1,6))\n",
        "boundary_min_deg=np.concatenate((boundary_min_deg,this_sample),axis=0)"
      ],
      "metadata": {
        "id": "b3oJ2gzy60x9"
      },
      "execution_count": 7,
      "outputs": []
    },
    {
      "cell_type": "code",
      "source": [
        "this_sample=[mg_gluta[0],\n",
        "         peg[-1],\n",
        "         clpx[0],\n",
        "         clpp[0],\n",
        "         atp[0],\n",
        "         sfgfp[-1]]\n",
        "this_sample=np.reshape(this_sample,(1,6))\n",
        "boundary_min_deg=np.concatenate((boundary_min_deg,this_sample),axis=0)\n"
      ],
      "metadata": {
        "id": "pNXejxDK9CT_"
      },
      "execution_count": 8,
      "outputs": []
    },
    {
      "cell_type": "code",
      "source": [
        "this_sample=[mg_gluta[0],\n",
        "         peg[0],\n",
        "         clpx[-1],\n",
        "         clpp[0],\n",
        "         atp[0],\n",
        "         sfgfp[-1]]\n",
        "this_sample=np.reshape(this_sample,(1,6))\n",
        "boundary_min_deg=np.concatenate((boundary_min_deg,this_sample),axis=0)"
      ],
      "metadata": {
        "id": "ZGyFzQVcF7dt"
      },
      "execution_count": 9,
      "outputs": []
    },
    {
      "cell_type": "code",
      "source": [
        "this_sample=[mg_gluta[0],\n",
        "         peg[0],\n",
        "         clpx[0],\n",
        "         clpp[-1],\n",
        "         atp[0],\n",
        "         sfgfp[-1]]\n",
        "this_sample=np.reshape(this_sample,(1,6))\n",
        "boundary_min_deg=np.concatenate((boundary_min_deg,this_sample),axis=0)\n"
      ],
      "metadata": {
        "id": "NJMrGjsVF_kx"
      },
      "execution_count": 10,
      "outputs": []
    },
    {
      "cell_type": "code",
      "source": [
        "this_sample=[mg_gluta[0],\n",
        "         peg[0],\n",
        "         clpx[0],\n",
        "         clpp[0],\n",
        "         atp[-1],\n",
        "         sfgfp[-1]]\n",
        "this_sample=np.reshape(this_sample,(1,6))\n",
        "boundary_min_deg=np.concatenate((boundary_min_deg,this_sample),axis=0)\n"
      ],
      "metadata": {
        "id": "TGsojOumGDmc"
      },
      "execution_count": 11,
      "outputs": []
    },
    {
      "cell_type": "code",
      "source": [
        "print(boundary_min_deg.shape)"
      ],
      "metadata": {
        "id": "REZvVJaBGizG",
        "colab": {
          "base_uri": "https://localhost:8080/"
        },
        "outputId": "d073de33-ec56-445e-f834-300c3f3c15d7"
      },
      "execution_count": 12,
      "outputs": [
        {
          "output_type": "stream",
          "name": "stdout",
          "text": [
            "(6, 6)\n"
          ]
        }
      ]
    },
    {
      "cell_type": "markdown",
      "source": [
        "Ora definisco tutti i massimi tranne uno per la degradazione, compreso quello con tutti i valori al massimo\n"
      ],
      "metadata": {
        "id": "M3C5SIXQKvMi"
      }
    },
    {
      "cell_type": "code",
      "source": [
        "this_sample=[mg_gluta[-1],\n",
        "         peg[-1],\n",
        "         clpx[-1],\n",
        "         clpp[-1],\n",
        "         atp[-1],\n",
        "         sfgfp[-1]]\n",
        "this_sample=np.reshape(this_sample,(1,6))\n",
        "boundary_max_deg=this_sample"
      ],
      "metadata": {
        "id": "mk4vhWJ5LlEY"
      },
      "execution_count": 13,
      "outputs": []
    },
    {
      "cell_type": "code",
      "source": [
        "this_sample=[mg_gluta[0],\n",
        "         peg[-1],\n",
        "         clpx[-1],\n",
        "         clpp[-1],\n",
        "         atp[-1],\n",
        "         sfgfp[-1]]\n",
        "this_sample=np.reshape(this_sample,(1,6))\n",
        "boundary_max_deg=np.concatenate((boundary_max_deg,this_sample),axis=0)"
      ],
      "metadata": {
        "id": "Py8f9GKbNox5"
      },
      "execution_count": 14,
      "outputs": []
    },
    {
      "cell_type": "code",
      "source": [
        "this_sample=[mg_gluta[-1],\n",
        "         peg[0],\n",
        "         clpx[-1],\n",
        "         clpp[-1],\n",
        "         atp[-1],\n",
        "         sfgfp[-1]]\n",
        "this_sample=np.reshape(this_sample,(1,6))\n",
        "boundary_max_deg=np.concatenate((boundary_max_deg,this_sample),axis=0)"
      ],
      "metadata": {
        "id": "3u7tG1t1N4Lb"
      },
      "execution_count": 15,
      "outputs": []
    },
    {
      "cell_type": "code",
      "source": [
        "this_sample=[mg_gluta[-1],\n",
        "         peg[-1],\n",
        "         clpx[0],\n",
        "         clpp[-1],\n",
        "         atp[-1],\n",
        "         sfgfp[-1]]\n",
        "this_sample=np.reshape(this_sample,(1,6))\n",
        "boundary_max_deg=np.concatenate((boundary_max_deg,this_sample),axis=0)"
      ],
      "metadata": {
        "id": "R-tHg35KZT8K"
      },
      "execution_count": 16,
      "outputs": []
    },
    {
      "cell_type": "code",
      "source": [
        "this_sample=[mg_gluta[-1],\n",
        "         peg[-1],\n",
        "         clpx[-1],\n",
        "         clpp[0],\n",
        "         atp[-1],\n",
        "         sfgfp[-1]]\n",
        "this_sample=np.reshape(this_sample,(1,6))\n",
        "boundary_max_deg=np.concatenate((boundary_max_deg,this_sample),axis=0)"
      ],
      "metadata": {
        "id": "98RruaRfZZUl"
      },
      "execution_count": 17,
      "outputs": []
    },
    {
      "cell_type": "code",
      "source": [
        "this_sample=[mg_gluta[-1],\n",
        "         peg[-1],\n",
        "         clpx[-1],\n",
        "         clpp[-1],\n",
        "         atp[0],\n",
        "         sfgfp[-1]]\n",
        "this_sample=np.reshape(this_sample,(1,6))\n",
        "boundary_max_deg=np.concatenate((boundary_max_deg,this_sample),axis=0)\n"
      ],
      "metadata": {
        "id": "5CUiy_inZg_F"
      },
      "execution_count": 18,
      "outputs": []
    },
    {
      "cell_type": "code",
      "source": [
        "print(boundary_max_deg.shape)"
      ],
      "metadata": {
        "id": "_fRPaqbOZzQG",
        "colab": {
          "base_uri": "https://localhost:8080/"
        },
        "outputId": "ff5fe613-2bab-4588-a866-fbe56c0ee46f"
      },
      "execution_count": 19,
      "outputs": [
        {
          "output_type": "stream",
          "name": "stdout",
          "text": [
            "(6, 6)\n"
          ]
        }
      ]
    },
    {
      "cell_type": "markdown",
      "source": [
        "Ora riempiamo il resto della lista di esperimenti iniziali da fare randomicamente"
      ],
      "metadata": {
        "id": "11lZKzlYaG__"
      }
    },
    {
      "cell_type": "code",
      "source": [
        "initial_array_syn=np.concatenate((ctrl_deg,boundary_max_deg,boundary_min_deg[1:]),axis=0) #il primo del boundary_min_deg coincide col reference array\n",
        "print(initial_array_syn.shape)"
      ],
      "metadata": {
        "id": "OPKVa0XoGN62",
        "colab": {
          "base_uri": "https://localhost:8080/"
        },
        "outputId": "9f22ec03-7294-45e0-ac2b-1e780bfef5c7"
      },
      "execution_count": 20,
      "outputs": [
        {
          "output_type": "stream",
          "name": "stdout",
          "text": [
            "(13, 6)\n"
          ]
        }
      ]
    },
    {
      "cell_type": "markdown",
      "source": [
        "Funzione per vedere se una combinazione è già stata esplorata\n"
      ],
      "metadata": {
        "id": "IBL_2YdoMuS4"
      }
    },
    {
      "cell_type": "code",
      "source": [
        "def present_in_array_index(new_sample, array):\n",
        "    \"\"\"\n",
        "    Verify if a sample is present in an array.\n",
        "    \"\"\"\n",
        "    if array is None:\n",
        "        return(False, -1)\n",
        "    present = False\n",
        "    new_sample = np.reshape(np.array(new_sample), (1,6))\n",
        "    for i in range(array.shape[0]):\n",
        "        if np.array_equiv(array[i,:],new_sample):\n",
        "            present = True\n",
        "            break\n",
        "    return(present, i)"
      ],
      "metadata": {
        "id": "A3TxjBhoNXlo"
      },
      "execution_count": 21,
      "outputs": []
    },
    {
      "cell_type": "markdown",
      "source": [
        "Genero nuovi sample randomici"
      ],
      "metadata": {
        "id": "L0fNn8bHOItZ"
      }
    },
    {
      "cell_type": "code",
      "execution_count": 22,
      "metadata": {
        "id": "2Xz9koH8vMdk"
      },
      "outputs": [],
      "source": [
        "def generate_random_grid(array_to_avoid, sample_size = 20): #potremmo fare alla prima iterazione 20 e poi le altre di 10 in 10\n",
        "    active_learning_array = array_to_avoid #array contenente tutte le combinazioni testate e poi quelle che verranno testate\n",
        "    if array_to_avoid is None:\n",
        "        answerSize = 0\n",
        "    else:\n",
        "        answerSize = active_learning_array.shape[0] #tiene conto delle scelte già fatte. Contatore dei samples già decisi\n",
        "    # Reagents not allowed to vary\n",
        "    sfgfp_fixed = sfgfp[1]\n",
        "\n",
        "    while answerSize < sample_size:\n",
        "      indexes= tuple(np.random.randint(0, len(lst)) for lst in lists)\n",
        "      this_sample=[lists[0][indexes[0]],\n",
        "                  lists[1][indexes[1]],\n",
        "                  lists[2][indexes[2]],\n",
        "                  lists[3][indexes[3]],\n",
        "                  lists[4][indexes[4]],\n",
        "                  sfgfp_fixed]\n",
        "      this_sample=np.reshape(this_sample,(1,6))\n",
        "      if not present_in_array_index(this_sample, active_learning_array)[0]:\n",
        "        answerSize = answerSize + 1\n",
        "      if active_learning_array is None:\n",
        "        active_learning_array = this_sample\n",
        "      else:\n",
        "          active_learning_array = np.concatenate((active_learning_array, this_sample), axis = 0)\n",
        "    return(active_learning_array)"
      ]
    },
    {
      "cell_type": "markdown",
      "source": [],
      "metadata": {
        "id": "ZTdhf92PMk1x"
      }
    },
    {
      "cell_type": "code",
      "source": [
        "active_learning_array=generate_random_grid(initial_array_syn, sample_size = 15)\n",
        "print(active_learning_array)"
      ],
      "metadata": {
        "id": "YjGWfj-2PKYk",
        "colab": {
          "base_uri": "https://localhost:8080/"
        },
        "outputId": "0f84ec64-6a06-4915-dd79-ed92ec80b47f"
      },
      "execution_count": 23,
      "outputs": [
        {
          "output_type": "stream",
          "name": "stdout",
          "text": [
            "[[  6.    3.    0.    0.    0.    1.5]\n",
            " [  6.    3.    0.    0.    0.    0. ]\n",
            " [ 14.    7.5 400.  400.    8.    1.5]\n",
            " [  6.    7.5 400.  400.    8.    1.5]\n",
            " [ 14.    3.  400.  400.    8.    1.5]\n",
            " [ 14.    7.5   0.  400.    8.    1.5]\n",
            " [ 14.    7.5 400.    0.    8.    1.5]\n",
            " [ 14.    7.5 400.  400.    0.    1.5]\n",
            " [ 14.    3.    0.    0.    0.    1.5]\n",
            " [  6.    7.5   0.    0.    0.    1.5]\n",
            " [  6.    3.  400.    0.    0.    1.5]\n",
            " [  6.    3.    0.  400.    0.    1.5]\n",
            " [  6.    3.    0.    0.    8.    1.5]\n",
            " [ 14.    6.  150.  100.    4.    1.5]\n",
            " [  9.    3.  100.  250.    8.    1.5]]\n"
          ]
        }
      ]
    },
    {
      "cell_type": "code",
      "source": [
        "headers=\"mg_gluta; peg8000; ClpX; ClpP; ATP; sfGFP\"\n",
        "np.savetxt(f\"{data_folder}/initial_plate_deg_nolabel.csv\", active_learning_array, delimiter=\";\", header=headers, fmt='%.2f', comments=\"\")"
      ],
      "metadata": {
        "id": "_y1PdOciMkYZ"
      },
      "execution_count": 28,
      "outputs": []
    }
  ]
}