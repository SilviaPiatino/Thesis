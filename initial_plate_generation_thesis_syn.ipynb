{
  "nbformat": 4,
  "nbformat_minor": 0,
  "metadata": {
    "colab": {
      "provenance": []
    },
    "kernelspec": {
      "name": "python3",
      "display_name": "Python 3"
    },
    "language_info": {
      "name": "python"
    }
  },
  "cells": [
    {
      "cell_type": "markdown",
      "source": [
        "# Initialization of plate generation for synthesis\n"
      ],
      "metadata": {
        "id": "Q9AStdYAQfU4"
      }
    },
    {
      "cell_type": "markdown",
      "source": [
        "Ho importato le librerie che mi servono"
      ],
      "metadata": {
        "id": "UBSqKJe2CewB"
      }
    },
    {
      "cell_type": "code",
      "execution_count": 25,
      "metadata": {
        "id": "Wor14wOE-xpo"
      },
      "outputs": [],
      "source": [
        "import numpy as np\n",
        "import random\n",
        "import os"
      ]
    },
    {
      "cell_type": "markdown",
      "source": [
        "Creo la cartella dove salvare l'inizializzazione degli esperimenti"
      ],
      "metadata": {
        "id": "jinRyZQYRWqh"
      }
    },
    {
      "cell_type": "code",
      "source": [
        "data_folder = \"data_syn\"\n",
        "os.makedirs(data_folder, exist_ok=True)  # crea se non esiste"
      ],
      "metadata": {
        "id": "Ct1KlR2hRU4T"
      },
      "execution_count": 26,
      "outputs": []
    },
    {
      "cell_type": "markdown",
      "source": [
        "Definisco le concentrazioni da testare con variabili liste\n",
        "\n",
        "\n",
        "> Aggiungi citazione\n",
        "\n",
        "\n"
      ],
      "metadata": {
        "id": "-qxZxTZBELyZ"
      }
    },
    {
      "cell_type": "code",
      "source": [
        "mg_gluta=[6, 7, 8, 9, 10, 11, 12, 13, 14]\n",
        "peg=[3, 4.5, 6, 7.5]\n",
        "clpx=[0, 50, 100, 150, 200, 250, 300, 350, 400]\n",
        "clpp=[0, 50, 100, 150, 200, 250, 300, 350, 400]\n",
        "atp=[0, 1, 2, 3, 4, 5, 6, 7, 8]\n",
        "dna=[0, 3]\n",
        "lists=[mg_gluta,peg,clpx,clpp,atp]"
      ],
      "metadata": {
        "id": "8U_BgI9lVftz"
      },
      "execution_count": 27,
      "outputs": []
    },
    {
      "cell_type": "markdown",
      "source": [
        "Definisco i control samples\n"
      ],
      "metadata": {
        "id": "oFFkciFbzMgX"
      }
    },
    {
      "cell_type": "code",
      "source": [
        "ref_syn=[mg_gluta[-1],\n",
        "         peg[-1],\n",
        "         clpx[-1],\n",
        "         clpp[-1],\n",
        "         atp[-1],\n",
        "         dna[-1]\n",
        "]\n",
        "autofl_syn=[mg_gluta[-1],\n",
        "         peg[-1],\n",
        "         clpx[-1],\n",
        "         clpp[-1],\n",
        "         atp[-1],\n",
        "         dna[0]\n",
        "]\n"
      ],
      "metadata": {
        "id": "-VucFEBmzkUf"
      },
      "execution_count": 28,
      "outputs": []
    },
    {
      "cell_type": "markdown",
      "source": [
        "conversione ad array e creazione di quello di controllo"
      ],
      "metadata": {
        "id": "DXL9lYz945P-"
      }
    },
    {
      "cell_type": "code",
      "source": [
        "ref_syn=np.reshape(ref_syn,(1,6))\n",
        "autofl_syn=np.reshape(autofl_syn,(1,6))\n",
        "\n",
        "ctrl_syn=np.concatenate((ref_syn,autofl_syn),axis=0)\n"
      ],
      "metadata": {
        "id": "H8pqfQbG1S_L"
      },
      "execution_count": 29,
      "outputs": []
    },
    {
      "cell_type": "markdown",
      "source": [
        "Definisco tutti massimi tranne uno minimo per la sintesi. Sono combinazioni che voglio testare all'inizio"
      ],
      "metadata": {
        "id": "GIBzecsl7Ekz"
      }
    },
    {
      "cell_type": "code",
      "source": [
        "boundary_max_syn=ref_syn\n",
        "this_sample=[mg_gluta[0],\n",
        "         peg[-1],\n",
        "         clpx[-1],\n",
        "         clpp[-1],\n",
        "         atp[-1],\n",
        "         dna[-1]]\n",
        "this_sample=np.reshape(this_sample,(1,6))\n",
        "boundary_max_syn=np.concatenate((boundary_max_syn,this_sample),axis=0)"
      ],
      "metadata": {
        "id": "b3oJ2gzy60x9"
      },
      "execution_count": 30,
      "outputs": []
    },
    {
      "cell_type": "code",
      "source": [
        "this_sample=[mg_gluta[-1],\n",
        "         peg[0],\n",
        "         clpx[-1],\n",
        "         clpp[-1],\n",
        "         atp[-1],\n",
        "         dna[-1]]\n",
        "this_sample=np.reshape(this_sample,(1,6))\n",
        "boundary_max_syn=np.concatenate((boundary_max_syn,this_sample),axis=0)\n"
      ],
      "metadata": {
        "id": "pNXejxDK9CT_"
      },
      "execution_count": 31,
      "outputs": []
    },
    {
      "cell_type": "code",
      "source": [
        "this_sample=[mg_gluta[-1],\n",
        "         peg[-1],\n",
        "         clpx[0],\n",
        "         clpp[-1],\n",
        "         atp[-1],\n",
        "         dna[-1]]\n",
        "this_sample=np.reshape(this_sample,(1,6))\n",
        "boundary_max_syn=np.concatenate((boundary_max_syn,this_sample),axis=0)"
      ],
      "metadata": {
        "id": "ZGyFzQVcF7dt"
      },
      "execution_count": 32,
      "outputs": []
    },
    {
      "cell_type": "code",
      "source": [
        "this_sample=[mg_gluta[-1],\n",
        "         peg[-1],\n",
        "         clpx[-1],\n",
        "         clpp[0],\n",
        "         atp[-1],\n",
        "         dna[-1]]\n",
        "this_sample=np.reshape(this_sample,(1,6))\n",
        "boundary_max_syn=np.concatenate((boundary_max_syn,this_sample),axis=0)\n"
      ],
      "metadata": {
        "id": "NJMrGjsVF_kx"
      },
      "execution_count": 33,
      "outputs": []
    },
    {
      "cell_type": "code",
      "source": [
        "this_sample=[mg_gluta[-1],\n",
        "         peg[-1],\n",
        "         clpx[-1],\n",
        "         clpp[-1],\n",
        "         atp[0],\n",
        "         dna[-1]]\n",
        "this_sample=np.reshape(this_sample,(1,6))\n",
        "boundary_max_syn=np.concatenate((boundary_max_syn,this_sample),axis=0)\n"
      ],
      "metadata": {
        "id": "TGsojOumGDmc"
      },
      "execution_count": 34,
      "outputs": []
    },
    {
      "cell_type": "code",
      "source": [
        "print(boundary_max_syn.shape)"
      ],
      "metadata": {
        "colab": {
          "base_uri": "https://localhost:8080/"
        },
        "id": "REZvVJaBGizG",
        "outputId": "97a98d45-2bf5-4c0e-fab6-4222a9a48c15"
      },
      "execution_count": 35,
      "outputs": [
        {
          "output_type": "stream",
          "name": "stdout",
          "text": [
            "(6, 6)\n"
          ]
        }
      ]
    },
    {
      "cell_type": "markdown",
      "source": [
        "Ora definisco tutti i minimi tranne uno per la sintesi, compreso quello con tutti i valori al minimo\n"
      ],
      "metadata": {
        "id": "M3C5SIXQKvMi"
      }
    },
    {
      "cell_type": "code",
      "source": [
        "this_sample=[mg_gluta[0],\n",
        "         peg[0],\n",
        "         clpx[0],\n",
        "         clpp[0],\n",
        "         atp[0],\n",
        "         dna[-1]]\n",
        "this_sample=np.reshape(this_sample,(1,6))\n",
        "boundary_min_syn=this_sample"
      ],
      "metadata": {
        "id": "mk4vhWJ5LlEY"
      },
      "execution_count": 36,
      "outputs": []
    },
    {
      "cell_type": "code",
      "source": [
        "this_sample=[mg_gluta[-1],\n",
        "         peg[0],\n",
        "         clpx[0],\n",
        "         clpp[0],\n",
        "         atp[0],\n",
        "         dna[-1]]\n",
        "this_sample=np.reshape(this_sample,(1,6))\n",
        "boundary_min_syn=np.concatenate((boundary_min_syn,this_sample),axis=0)"
      ],
      "metadata": {
        "id": "Py8f9GKbNox5"
      },
      "execution_count": 37,
      "outputs": []
    },
    {
      "cell_type": "code",
      "source": [
        "this_sample=[mg_gluta[0],\n",
        "         peg[-1],\n",
        "         clpx[0],\n",
        "         clpp[0],\n",
        "         atp[0],\n",
        "         dna[-1]]\n",
        "this_sample=np.reshape(this_sample,(1,6))\n",
        "boundary_min_syn=np.concatenate((boundary_min_syn,this_sample),axis=0)"
      ],
      "metadata": {
        "id": "3u7tG1t1N4Lb"
      },
      "execution_count": 38,
      "outputs": []
    },
    {
      "cell_type": "code",
      "source": [
        "this_sample=[mg_gluta[0],\n",
        "         peg[0],\n",
        "         clpx[-1],\n",
        "         clpp[0],\n",
        "         atp[0],\n",
        "         dna[-1]]\n",
        "this_sample=np.reshape(this_sample,(1,6))\n",
        "boundary_min_syn=np.concatenate((boundary_min_syn,this_sample),axis=0)"
      ],
      "metadata": {
        "id": "R-tHg35KZT8K"
      },
      "execution_count": 39,
      "outputs": []
    },
    {
      "cell_type": "code",
      "source": [
        "this_sample=[mg_gluta[0],\n",
        "         peg[0],\n",
        "         clpx[0],\n",
        "         clpp[-1],\n",
        "         atp[0],\n",
        "         dna[-1]]\n",
        "this_sample=np.reshape(this_sample,(1,6))\n",
        "boundary_min_syn=np.concatenate((boundary_min_syn,this_sample),axis=0)"
      ],
      "metadata": {
        "id": "98RruaRfZZUl"
      },
      "execution_count": 40,
      "outputs": []
    },
    {
      "cell_type": "code",
      "source": [
        "this_sample=[mg_gluta[0],\n",
        "         peg[0],\n",
        "         clpx[0],\n",
        "         clpp[0],\n",
        "         atp[-1],\n",
        "         dna[-1]]\n",
        "this_sample=np.reshape(this_sample,(1,6))\n",
        "boundary_min_syn=np.concatenate((boundary_min_syn,this_sample),axis=0)\n"
      ],
      "metadata": {
        "id": "5CUiy_inZg_F"
      },
      "execution_count": 41,
      "outputs": []
    },
    {
      "cell_type": "code",
      "source": [
        "print(boundary_min_syn.shape)"
      ],
      "metadata": {
        "colab": {
          "base_uri": "https://localhost:8080/"
        },
        "id": "_fRPaqbOZzQG",
        "outputId": "4c92490c-a2ff-43c4-b071-69f1366eb2c6"
      },
      "execution_count": 42,
      "outputs": [
        {
          "output_type": "stream",
          "name": "stdout",
          "text": [
            "(6, 6)\n"
          ]
        }
      ]
    },
    {
      "cell_type": "markdown",
      "source": [
        "Ora riempiamo il resto della lista di esperimenti iniziali da fare randomicamente"
      ],
      "metadata": {
        "id": "11lZKzlYaG__"
      }
    },
    {
      "cell_type": "code",
      "source": [
        "initial_array_syn=np.concatenate((ctrl_syn,boundary_min_syn,boundary_max_syn[1:]),axis=0) #il primo del boundary_max_syn coincide col reference array\n",
        "print(initial_array_syn.shape)"
      ],
      "metadata": {
        "colab": {
          "base_uri": "https://localhost:8080/"
        },
        "id": "OPKVa0XoGN62",
        "outputId": "dd75711a-faf2-4267-f46b-7afcfea33f25"
      },
      "execution_count": 43,
      "outputs": [
        {
          "output_type": "stream",
          "name": "stdout",
          "text": [
            "(13, 6)\n"
          ]
        }
      ]
    },
    {
      "cell_type": "markdown",
      "source": [
        "Funzione per vedere se una combinazione è già stata esplorata\n"
      ],
      "metadata": {
        "id": "IBL_2YdoMuS4"
      }
    },
    {
      "cell_type": "code",
      "source": [
        "def present_in_array_index(new_sample, array):\n",
        "    \"\"\"\n",
        "    Verify if a sample is present in an array.\n",
        "    \"\"\"\n",
        "    if array is None:\n",
        "        return(False, -1)\n",
        "    present = False\n",
        "    new_sample = np.reshape(np.array(new_sample), (1,6))\n",
        "    for i in range(array.shape[0]):\n",
        "        if np.array_equiv(array[i,:],new_sample):\n",
        "            present = True\n",
        "            break\n",
        "    return(present, i)"
      ],
      "metadata": {
        "id": "A3TxjBhoNXlo"
      },
      "execution_count": 44,
      "outputs": []
    },
    {
      "cell_type": "markdown",
      "source": [
        "Genero nuovi sample randomici"
      ],
      "metadata": {
        "id": "L0fNn8bHOItZ"
      }
    },
    {
      "cell_type": "code",
      "execution_count": 45,
      "metadata": {
        "id": "2Xz9koH8vMdk"
      },
      "outputs": [],
      "source": [
        "def generate_random_grid(array_to_avoid, sample_size = 20): #potremmo fare alla prima iterazione 20 e poi le altre di 10 in 10\n",
        "    active_learning_array = array_to_avoid #array contenente tutte le combinazioni testate e poi quelle che verranno testate\n",
        "    if array_to_avoid is None:\n",
        "        answerSize = 0\n",
        "    else:\n",
        "        answerSize = active_learning_array.shape[0] #tiene conto delle scelte già fatte. Contatore dei samples già decisi\n",
        "    # Reagents not allowed to vary\n",
        "    dna_fixed = dna[1]\n",
        "\n",
        "    while answerSize < sample_size:\n",
        "      indexes= tuple(np.random.randint(0, len(lst)) for lst in lists)\n",
        "      this_sample=[lists[0][indexes[0]],\n",
        "                  lists[1][indexes[1]],\n",
        "                  lists[2][indexes[2]],\n",
        "                  lists[3][indexes[3]],\n",
        "                  lists[4][indexes[4]],\n",
        "                  dna_fixed]\n",
        "      this_sample=np.reshape(this_sample,(1,6))\n",
        "      if not present_in_array_index(this_sample, active_learning_array)[0]:\n",
        "        answerSize = answerSize + 1\n",
        "      if active_learning_array is None:\n",
        "        active_learning_array = this_sample\n",
        "      else:\n",
        "          active_learning_array = np.concatenate((active_learning_array, this_sample), axis = 0)\n",
        "    return(active_learning_array)"
      ]
    },
    {
      "cell_type": "markdown",
      "source": [],
      "metadata": {
        "id": "ZTdhf92PMk1x"
      }
    },
    {
      "cell_type": "code",
      "source": [
        "active_learning_array=generate_random_grid(initial_array_syn, sample_size = 15)\n",
        "print(active_learning_array)"
      ],
      "metadata": {
        "id": "YjGWfj-2PKYk",
        "colab": {
          "base_uri": "https://localhost:8080/"
        },
        "outputId": "d8e9af6b-f4f1-4291-897e-4b708a70cab1"
      },
      "execution_count": 46,
      "outputs": [
        {
          "output_type": "stream",
          "name": "stdout",
          "text": [
            "[[ 14.    7.5 400.  400.    8.    3. ]\n",
            " [ 14.    7.5 400.  400.    8.    0. ]\n",
            " [  6.    3.    0.    0.    0.    3. ]\n",
            " [ 14.    3.    0.    0.    0.    3. ]\n",
            " [  6.    7.5   0.    0.    0.    3. ]\n",
            " [  6.    3.  400.    0.    0.    3. ]\n",
            " [  6.    3.    0.  400.    0.    3. ]\n",
            " [  6.    3.    0.    0.    8.    3. ]\n",
            " [  6.    7.5 400.  400.    8.    3. ]\n",
            " [ 14.    3.  400.  400.    8.    3. ]\n",
            " [ 14.    7.5   0.  400.    8.    3. ]\n",
            " [ 14.    7.5 400.    0.    8.    3. ]\n",
            " [ 14.    7.5 400.  400.    0.    3. ]\n",
            " [ 11.    6.  400.  400.    0.    3. ]\n",
            " [  6.    4.5 400.  350.    5.    3. ]]\n"
          ]
        }
      ]
    },
    {
      "cell_type": "markdown",
      "source": [
        "Salvo i dati\n"
      ],
      "metadata": {
        "id": "Bzl8kyuBMpmG"
      }
    },
    {
      "cell_type": "code",
      "source": [
        "headers=\"mg_gluta; peg8000; ClpX; ClpP; ATP; DNA\"\n",
        "np.savetxt(f\"{data_folder}/initial_plate_syn_nolabel.csv\", active_learning_array, delimiter=\";\", header=headers, fmt='%.2f', comments=\"\")"
      ],
      "metadata": {
        "id": "_y1PdOciMkYZ"
      },
      "execution_count": 47,
      "outputs": []
    }
  ]
}